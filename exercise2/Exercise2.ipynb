{
  "nbformat": 4,
  "nbformat_minor": 0,
  "metadata": {
    "colab": {
      "provenance": [],
      "authorship_tag": "ABX9TyO35Bw4egBGB5xjl+QWOMqs",
      "include_colab_link": true
    },
    "kernelspec": {
      "name": "python3",
      "display_name": "Python 3"
    },
    "language_info": {
      "name": "python"
    }
  },
  "cells": [
    {
      "cell_type": "markdown",
      "metadata": {
        "id": "view-in-github",
        "colab_type": "text"
      },
      "source": [
        "<a href=\"https://colab.research.google.com/github/robitussin/CCRNFLRL_EXERCISES/blob/main/Exercise2.ipynb\" target=\"_parent\"><img src=\"https://colab.research.google.com/assets/colab-badge.svg\" alt=\"Open In Colab\"/></a>"
      ]
    },
    {
      "cell_type": "markdown",
      "source": [
        "# Exercise 2"
      ],
      "metadata": {
        "id": "gh4_1T3XTRg6"
      }
    },
    {
      "cell_type": "code",
      "source": [
        "from math import sqrt, log\n",
        "import pandas as pd"
      ],
      "metadata": {
        "id": "-6zwzOH0TMq0"
      },
      "execution_count": 8,
      "outputs": []
    },
    {
      "cell_type": "markdown",
      "source": [
        "## Step 1: Enter your data\n",
        "\n",
        "Add a new row after each pull: Pull number, Machine played (\"A\", \"B\", \"C\"), and Reward earned."
      ],
      "metadata": {
        "id": "kZCcIK8dTkot"
      }
    },
    {
      "cell_type": "code",
      "source": [
        "data = pd.DataFrame({\n",
        "    \"Pull\": [1, 2, 3],          # Pull number\n",
        "    \"Machine\": [\"A\", \"B\", \"C\"], # Which machine was played\n",
        "    \"Reward\": [7, 8, 5]         # Reward received from that machine\n",
        "})"
      ],
      "metadata": {
        "id": "_XJg9sNjTP9s"
      },
      "execution_count": 9,
      "outputs": []
    },
    {
      "cell_type": "markdown",
      "source": [
        "# Step 2: Calculate UCB"
      ],
      "metadata": {
        "id": "9pAruytjTt-b"
      }
    },
    {
      "cell_type": "code",
      "execution_count": 10,
      "metadata": {
        "id": "7iyebQ41S3pA"
      },
      "outputs": [],
      "source": [
        "def calculate_ucb(df):\n",
        "    results = []\n",
        "    total_pulls = len(df)\n",
        "    machines = sorted(df[\"Machine\"].unique())\n",
        "\n",
        "    for machine in machines:\n",
        "        machine_data = df[df[\"Machine\"] == machine]\n",
        "        n_j = len(machine_data)\n",
        "        avg_reward = machine_data[\"Reward\"].mean()\n",
        "        exploration_bonus = sqrt((2 * log(total_pulls)) / n_j) if n_j > 0 else float(\"inf\")\n",
        "        ucb_score = avg_reward + exploration_bonus\n",
        "        results.append({\n",
        "            \"Machine\": machine,\n",
        "            \"Pulls\": n_j,\n",
        "            \"Avg Reward\": round(avg_reward, 2),\n",
        "            \"Exploration Bonus\": round(exploration_bonus, 4),\n",
        "            \"UCB Score\": round(ucb_score, 4)\n",
        "        })\n",
        "    return pd.DataFrame(results).sort_values(by=\"UCB Score\", ascending=False)"
      ]
    },
    {
      "cell_type": "markdown",
      "source": [
        "\n",
        "# Step 3: Calculate and display\n"
      ],
      "metadata": {
        "id": "GmVaGjpdT4eA"
      }
    },
    {
      "cell_type": "code",
      "source": [
        "ucb_table = calculate_ucb(data)\n",
        "print(\"📊 UCB Results Table\")\n",
        "print(ucb_table)"
      ],
      "metadata": {
        "colab": {
          "base_uri": "https://localhost:8080/"
        },
        "id": "ZXBIvOEVTVND",
        "outputId": "118db1fa-bdb4-4e2f-8af2-a1f3a0f859b4"
      },
      "execution_count": 11,
      "outputs": [
        {
          "output_type": "stream",
          "name": "stdout",
          "text": [
            "📊 UCB Results Table\n",
            "  Machine  Pulls  Avg Reward  Exploration Bonus  UCB Score\n",
            "1       B      1         8.0             1.4823     9.4823\n",
            "0       A      1         7.0             1.4823     8.4823\n",
            "2       C      1         5.0             1.4823     6.4823\n"
          ]
        }
      ]
    },
    {
      "cell_type": "markdown",
      "source": [
        "# Step 4: Next machine suggestion"
      ],
      "metadata": {
        "id": "YURFdhQmUCjl"
      }
    },
    {
      "cell_type": "code",
      "source": [
        "best_machine = ucb_table.iloc[0][\"Machine\"]\n",
        "print(f\"\\n🎯 Recommended next machine to play: {best_machine}\")"
      ],
      "metadata": {
        "colab": {
          "base_uri": "https://localhost:8080/"
        },
        "id": "XufYOkGET_l-",
        "outputId": "a0df6e9a-1ee0-4ad3-969a-0c63299a24ee"
      },
      "execution_count": 12,
      "outputs": [
        {
          "output_type": "stream",
          "name": "stdout",
          "text": [
            "\n",
            "🎯 Recommended next machine to play: B\n"
          ]
        }
      ]
    }
  ]
}